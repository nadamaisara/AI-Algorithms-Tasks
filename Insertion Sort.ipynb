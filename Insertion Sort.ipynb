{
 "cells": [
  {
   "cell_type": "markdown",
   "id": "bd8a8668",
   "metadata": {},
   "source": [
    "## Insertion Sort"
   ]
  },
  {
   "cell_type": "code",
   "execution_count": 6,
   "id": "93890d40",
   "metadata": {},
   "outputs": [
    {
     "name": "stdout",
     "output_type": "stream",
     "text": [
      "The unsorted list is: [11, 6, 14, 9, 3]\n",
      "The sorted list1 is: [3, 6, 9, 11, 14]\n"
     ]
    }
   ],
   "source": [
    "def insertion_sort(list1):  \n",
    "  \n",
    "        # Outer loop to loop around 1 to the len(list1)  \n",
    "        for i in range(1, len(list1)):  \n",
    "  \n",
    "            value = list1[i]  \n",
    "  \n",
    "            # Move elements of list1[0..i-1], that are  greater than value, to one position ahead of their current position.\n",
    "            j = i - 1  \n",
    "            while j >= 0 and value < list1[j]:  \n",
    "                list1[j + 1] = list1[j]  \n",
    "                j -= 1  \n",
    "            list1[j + 1] = value  \n",
    "        return list1  \n",
    "  \n",
    "list1 = [11, 6, 14, 9, 3]  \n",
    "print(\"The unsorted list is:\", list1)  \n",
    "print(\"The sorted list1 is:\", insertion_sort(list1))  "
   ]
  }
 ],
 "metadata": {
  "kernelspec": {
   "display_name": "Python 3 (ipykernel)",
   "language": "python",
   "name": "python3"
  },
  "language_info": {
   "codemirror_mode": {
    "name": "ipython",
    "version": 3
   },
   "file_extension": ".py",
   "mimetype": "text/x-python",
   "name": "python",
   "nbconvert_exporter": "python",
   "pygments_lexer": "ipython3",
   "version": "3.9.12"
  }
 },
 "nbformat": 4,
 "nbformat_minor": 5
}
